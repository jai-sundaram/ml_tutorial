{
  "nbformat": 4,
  "nbformat_minor": 0,
  "metadata": {
    "colab": {
      "provenance": [],
      "gpuType": "T4",
      "include_colab_link": true
    },
    "kernelspec": {
      "name": "python3",
      "display_name": "Python 3"
    },
    "accelerator": "GPU"
  },
  "cells": [
    {
      "cell_type": "markdown",
      "metadata": {
        "id": "view-in-github",
        "colab_type": "text"
      },
      "source": [
        "<a href=\"https://colab.research.google.com/github/jai-sundaram/ml_tutorial/blob/main/my_logistic_regression.ipynb\" target=\"_parent\"><img src=\"https://colab.research.google.com/assets/colab-badge.svg\" alt=\"Open In Colab\"/></a>"
      ]
    },
    {
      "cell_type": "markdown",
      "metadata": {
        "id": "0MRC0e0KhQ0S"
      },
      "source": [
        "# Logistic Regression"
      ]
    },
    {
      "cell_type": "code",
      "source": [
        "#logistic is used to predict a categorical from a number of independent variables\n",
        "#not predicting a continous variable like in linear regression, but a categorical variable\n",
        "#we cant just draw a simple line like we did for linear regression\n",
        "#equation for logistic regression: ln(p/1-p) = b0 + b1x1\n",
        "#p = probability that we will be working with\n",
        "#the graph for logistic regression is more of a curve, it is called the sigmoid curve\n",
        "#lets say we have finished the logistic regression model\n",
        "#to apply it to new observations, we need to project the values to the logistic regression, see where they fit there\n",
        "#the logistic regression will give us a value\n",
        "#if the result is yes/no, no is 0, yes is 1, values between is the probability\n",
        "#the p is the probability that the result is 'yes'\n",
        "#lets say we have graph this, where y=1 is the max y-value and y=0 is the min y-value\n",
        "#the x would be the inputted value, y is the predicted probability\n",
        "#we will draw a line at y=0.5\n",
        "#anything above the line (probability of 50 percent or higher) will be projected to a yes (1)\n",
        "#anything below the line will be projected to a no (0)\n",
        "#furthermore, you can have multiple independent variables\n",
        "#the equation now will be:\n",
        "#ln(p/1-p) = b0 + b1x1 + b2x2 .... + bnxn"
      ],
      "metadata": {
        "id": "mHhNGUR9DUXT"
      },
      "execution_count": null,
      "outputs": []
    },
    {
      "cell_type": "markdown",
      "metadata": {
        "id": "LWd1UlMnhT2s"
      },
      "source": [
        "## Importing the libraries"
      ]
    },
    {
      "cell_type": "markdown",
      "metadata": {
        "id": "K1VMqkGvhc3-"
      },
      "source": [
        "## Importing the dataset"
      ]
    },
    {
      "cell_type": "markdown",
      "metadata": {
        "id": "YvxIPVyMhmKp"
      },
      "source": [
        "## Splitting the dataset into the Training set and Test set"
      ]
    },
    {
      "cell_type": "markdown",
      "metadata": {
        "id": "kW3c7UYih0hT"
      },
      "source": [
        "## Feature Scaling"
      ]
    },
    {
      "cell_type": "markdown",
      "metadata": {
        "id": "bb6jCOCQiAmP"
      },
      "source": [
        "## Training the Logistic Regression model on the Training set"
      ]
    },
    {
      "cell_type": "markdown",
      "metadata": {
        "id": "yyxW5b395mR2"
      },
      "source": [
        "## Predicting a new result"
      ]
    },
    {
      "cell_type": "markdown",
      "metadata": {
        "id": "vKYVQH-l5NpE"
      },
      "source": [
        "## Predicting the Test set results"
      ]
    },
    {
      "cell_type": "markdown",
      "metadata": {
        "id": "h4Hwj34ziWQW"
      },
      "source": [
        "## Making the Confusion Matrix"
      ]
    },
    {
      "cell_type": "markdown",
      "metadata": {
        "id": "6OMC_P0diaoD"
      },
      "source": [
        "## Visualising the Training set results"
      ]
    },
    {
      "cell_type": "markdown",
      "metadata": {
        "id": "SZ-j28aPihZx"
      },
      "source": [
        "## Visualising the Test set results"
      ]
    }
  ]
}