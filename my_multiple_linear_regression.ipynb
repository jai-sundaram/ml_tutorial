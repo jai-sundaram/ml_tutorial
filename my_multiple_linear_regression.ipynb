{
  "nbformat": 4,
  "nbformat_minor": 0,
  "metadata": {
    "colab": {
      "provenance": [],
      "toc_visible": true,
      "include_colab_link": true
    },
    "kernelspec": {
      "name": "python3",
      "display_name": "Python 3"
    }
  },
  "cells": [
    {
      "cell_type": "markdown",
      "metadata": {
        "id": "view-in-github",
        "colab_type": "text"
      },
      "source": [
        "<a href=\"https://colab.research.google.com/github/jai-sundaram/ml_tutorial/blob/main/my_multiple_linear_regression.ipynb\" target=\"_parent\"><img src=\"https://colab.research.google.com/assets/colab-badge.svg\" alt=\"Open In Colab\"/></a>"
      ]
    },
    {
      "cell_type": "markdown",
      "metadata": {
        "id": "CazISR8X_HUG"
      },
      "source": [
        "# Multiple Linear Regression"
      ]
    },
    {
      "cell_type": "code",
      "source": [
        "#equation for multiple linear regression\n",
        "#y = b0 + b1x1 + b2x2 +..... bnxn\n",
        "#y = dependent variable\n",
        "#b0 is the y-intercept\n",
        "#b1 is the first slope coefficient\n",
        "#x1 is the first independent variable\n",
        "#b2 is the second slope coefficient\n",
        "#x2 is the second indpendent variable\n",
        "#bn is the nth slope coefficient\n",
        "#xn is the nth independent variable\n",
        "\n",
        "#in multiple linear regression, there are multiple features/independent variable\n",
        "\n",
        "#assumptions of linear regression:\n",
        "#anscombe's quartet - have similair statistics, but look very different when graphed\n",
        "#highlight that you can't blindly apply linear regressioon\n",
        "#make sure that your dataset is fit for linear regression\n",
        "#the assumptions:\n",
        "#linearity - linear relationship between dependent and independent variable\n",
        "#homoscedasticity - equal variance, there should not be a cone-type shape on your shart (this means that variane is dependent on the independent variable)\n",
        "#multivariate normality - if you look along the lines, you want to see a normal distributuion of the data points\n",
        "#independence of observations (includes 'no autocorrelation') - there should be no pattern in our data (patterns indicate that rows are not indpendent, some rows are affecting other rows )#\n",
        "#lack of multicollinearity = predictors should not be correlated\n",
        "#outlier check (not an assumption just an extra check) - should we remove outliers before building the linear regression\n",
        "#in this course, we will these assumptions will all be correct for this section"
      ],
      "metadata": {
        "id": "GP5dIbl9G_ji"
      },
      "execution_count": null,
      "outputs": []
    },
    {
      "cell_type": "markdown",
      "metadata": {
        "id": "pOyqYHTk_Q57"
      },
      "source": [
        "## Importing the libraries"
      ]
    },
    {
      "cell_type": "markdown",
      "metadata": {
        "id": "vgC61-ah_WIz"
      },
      "source": [
        "## Importing the dataset"
      ]
    },
    {
      "cell_type": "markdown",
      "metadata": {
        "id": "VadrvE7s_lS9"
      },
      "source": [
        "## Encoding categorical data"
      ]
    },
    {
      "cell_type": "markdown",
      "metadata": {
        "id": "WemVnqgeA70k"
      },
      "source": [
        "## Splitting the dataset into the Training set and Test set"
      ]
    },
    {
      "cell_type": "markdown",
      "metadata": {
        "id": "k-McZVsQBINc"
      },
      "source": [
        "## Training the Multiple Linear Regression model on the Training set"
      ]
    },
    {
      "cell_type": "markdown",
      "metadata": {
        "id": "xNkXL1YQBiBT"
      },
      "source": [
        "## Predicting the Test set results"
      ]
    }
  ]
}