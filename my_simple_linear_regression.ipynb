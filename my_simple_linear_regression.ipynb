{
  "nbformat": 4,
  "nbformat_minor": 0,
  "metadata": {
    "colab": {
      "provenance": [],
      "include_colab_link": true
    },
    "kernelspec": {
      "name": "python3",
      "display_name": "Python 3"
    }
  },
  "cells": [
    {
      "cell_type": "markdown",
      "metadata": {
        "id": "view-in-github",
        "colab_type": "text"
      },
      "source": [
        "<a href=\"https://colab.research.google.com/github/jai-sundaram/ml_tutorial/blob/main/my_simple_linear_regression.ipynb\" target=\"_parent\"><img src=\"https://colab.research.google.com/assets/colab-badge.svg\" alt=\"Open In Colab\"/></a>"
      ]
    },
    {
      "cell_type": "markdown",
      "metadata": {
        "id": "l_LulNCC8z96"
      },
      "source": [
        "# Simple Linear Regression"
      ]
    },
    {
      "cell_type": "code",
      "source": [
        "#attempts to predict some continous real numbers\n",
        "#a salary, temperature, or any kind of continuous numerical value\n",
        "\n",
        "\n",
        "#equation of the line\n",
        "#y = bO + b1X1\n",
        "#y is the dependent variable, and is the thing we are trying to predict\n",
        "#x1 is the indepenedent variable, and it is the predictor\n",
        "#bO is the y-intercept, also known as the concept\n",
        "#b1 is the slope coefficient\n",
        "\n",
        "\n",
        "#ordinary least squares\n",
        "#need to find the best linear regression\n",
        "#first, need to take the data points and project them vertically on the linear regression line\n",
        "#for each point, we have two valus, yi and yi-hat\n",
        "#yi is the actual y value at that certain x value\n",
        "#yi-hat is the y value predicted by the linear regression line at that certain x value\n",
        "#in the perfect line, the differences between the predicted value and actual value should be as small as possible\n",
        "\n",
        "#basically,\n",
        "#b0 and b1 are such that the sum of the residuals [ sum of (yi - yi-hat)^2 for each point ] is minimized"
      ],
      "metadata": {
        "id": "bAGCarnxwl2e"
      },
      "execution_count": null,
      "outputs": []
    },
    {
      "cell_type": "markdown",
      "metadata": {
        "id": "xpXdowrE9DxW"
      },
      "source": [
        "## Importing the libraries"
      ]
    },
    {
      "cell_type": "code",
      "source": [
        "import pandas as pd\n",
        "import numpy as np\n",
        "import matplotlib.pyplot as plt"
      ],
      "metadata": {
        "id": "eF2XSXRf1UCt"
      },
      "execution_count": null,
      "outputs": []
    },
    {
      "cell_type": "markdown",
      "metadata": {
        "id": "6JhpWJi59J1p"
      },
      "source": [
        "## Importing the dataset"
      ]
    },
    {
      "cell_type": "code",
      "source": [
        "dataset = pd.read_csv('/content/Salary_Data.csv')\n",
        "X = dataset.iloc[:,:1].values\n",
        "y = dataset.iloc[:,1].values"
      ],
      "metadata": {
        "id": "BHDe4OVP1b-M"
      },
      "execution_count": null,
      "outputs": []
    },
    {
      "cell_type": "markdown",
      "metadata": {
        "id": "AyhQaTwP9RzG"
      },
      "source": [
        "## Splitting the dataset into the Training set and Test set"
      ]
    },
    {
      "cell_type": "code",
      "source": [
        "from sklearn.model_selection import train_test_split\n",
        "X_train, X_test, y_train, y_test = train_test_split(x, y, test_size = 0.2, random_state = 0)"
      ],
      "metadata": {
        "id": "enJAQk9k2Wxd"
      },
      "execution_count": null,
      "outputs": []
    },
    {
      "cell_type": "markdown",
      "metadata": {
        "id": "ZijQwFMQ9itx"
      },
      "source": [
        "## Training the Simple Linear Regression model on the Training set"
      ]
    },
    {
      "cell_type": "code",
      "source": [
        "#use the LinearRegression clas from the LinearModel module\n",
        "from sklearn.linear_model import LinearRegression\n",
        "#create an object\n",
        "regressor = LinearRegression()\n",
        "#need to use the fit method to train the model\n",
        "#need to input the training set into the fit method\n",
        "#first parameter is the training set's matrix of feature\n",
        "#second parameter is the training set's dependent variable vector\n",
        "regressor.fit(X_train, y_train)"
      ],
      "metadata": {
        "id": "op59y-iK8vQT"
      },
      "execution_count": null,
      "outputs": []
    },
    {
      "cell_type": "markdown",
      "metadata": {
        "id": "wa2T1Lq89o5H"
      },
      "source": [
        "## Predicting the Test set results"
      ]
    },
    {
      "cell_type": "markdown",
      "metadata": {
        "id": "-zSoMZ-P9v8t"
      },
      "source": [
        "## Visualising the Training set results"
      ]
    },
    {
      "cell_type": "markdown",
      "metadata": {
        "id": "EUX1Vhsv97ZT"
      },
      "source": [
        "## Visualising the Test set results"
      ]
    }
  ]
}