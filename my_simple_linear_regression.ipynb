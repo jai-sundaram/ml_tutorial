{
  "nbformat": 4,
  "nbformat_minor": 0,
  "metadata": {
    "colab": {
      "provenance": [],
      "toc_visible": true,
      "include_colab_link": true
    },
    "kernelspec": {
      "name": "python3",
      "display_name": "Python 3"
    }
  },
  "cells": [
    {
      "cell_type": "markdown",
      "metadata": {
        "id": "view-in-github",
        "colab_type": "text"
      },
      "source": [
        "<a href=\"https://colab.research.google.com/github/jai-sundaram/ml_tutorial/blob/main/my_simple_linear_regression.ipynb\" target=\"_parent\"><img src=\"https://colab.research.google.com/assets/colab-badge.svg\" alt=\"Open In Colab\"/></a>"
      ]
    },
    {
      "cell_type": "markdown",
      "metadata": {
        "id": "l_LulNCC8z96"
      },
      "source": [
        "# Simple Linear Regression"
      ]
    },
    {
      "cell_type": "code",
      "source": [
        "#attempts to predict some continous real numbers\n",
        "#a salary, temperature, or any kind of continuous numerical value\n",
        "\n",
        "\n",
        "#equation of the line\n",
        "#y = bO + b1X1\n",
        "#y is the dependent variable, and is the thing we are trying to predict\n",
        "#x1 is the indepenedent variable, and it is the predictor\n",
        "#bO is the y-intercept, also known as the concept\n",
        "#b1 is the slope coefficient\n",
        "\n",
        "\n",
        "#ordinary least squares\n",
        "#need to find the best linear regression\n",
        "#first, need to take the data points and project them vertically on the linear regression line\n",
        "#for each point, we have two valus, yi and yi-hat\n",
        "#yi is the actual y value at that certain x value\n",
        "#yi-hat is the y value predicted by the linear regression line at that certain x value\n",
        "#in the perfect line, the differences between the predicted value and actual value should be as small as possible\n",
        "\n",
        "#basically,\n",
        "#b0 and b1 are such that the sum of the residuals [ sum of (yi - yi-hat)^2 for each point ] is minimized"
      ],
      "metadata": {
        "id": "bAGCarnxwl2e"
      },
      "execution_count": null,
      "outputs": []
    },
    {
      "cell_type": "markdown",
      "metadata": {
        "id": "xpXdowrE9DxW"
      },
      "source": [
        "## Importing the libraries"
      ]
    },
    {
      "cell_type": "markdown",
      "metadata": {
        "id": "6JhpWJi59J1p"
      },
      "source": [
        "## Importing the dataset"
      ]
    },
    {
      "cell_type": "markdown",
      "metadata": {
        "id": "AyhQaTwP9RzG"
      },
      "source": [
        "## Splitting the dataset into the Training set and Test set"
      ]
    },
    {
      "cell_type": "markdown",
      "metadata": {
        "id": "ZijQwFMQ9itx"
      },
      "source": [
        "## Training the Simple Linear Regression model on the Training set"
      ]
    },
    {
      "cell_type": "markdown",
      "metadata": {
        "id": "wa2T1Lq89o5H"
      },
      "source": [
        "## Predicting the Test set results"
      ]
    },
    {
      "cell_type": "markdown",
      "metadata": {
        "id": "-zSoMZ-P9v8t"
      },
      "source": [
        "## Visualising the Training set results"
      ]
    },
    {
      "cell_type": "markdown",
      "metadata": {
        "id": "EUX1Vhsv97ZT"
      },
      "source": [
        "## Visualising the Test set results"
      ]
    }
  ]
}